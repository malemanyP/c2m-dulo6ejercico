{
 "cells": [
  {
   "cell_type": "markdown",
   "id": "15c4ec49-f983-44ca-9721-223440229979",
   "metadata": {},
   "source": [
    "# Data Science Tools and Ecosystem DMAP"
   ]
  },
  {
   "cell_type": "markdown",
   "id": "b0c96af2-12af-4fd6-ad54-5c2cd488ca54",
   "metadata": {},
   "source": [
    "# Data Science Tools and Ecosystem DMAP"
   ]
  },
  {
   "cell_type": "markdown",
   "id": "fd41cc0a-7eec-46e0-8d32-da78bb6bcd1e",
   "metadata": {},
   "source": [
    "In this notbook, Data Science Tools and Ecosystem are summarized"
   ]
  },
  {
   "cell_type": "markdown",
   "id": "03b76c06-5832-48fa-9e7e-a86166b4bad9",
   "metadata": {},
   "source": [
    "In this notbook, Data Science Tools and Ecosystem are summarized"
   ]
  },
  {
   "cell_type": "markdown",
   "id": "96f6e026-4483-4d87-8693-cd1e547a2b3b",
   "metadata": {},
   "source": [
    "*Objetives*\n",
    "* languages in Data Science\n",
    "* Libraries used in Data Science\n",
    "* Data Science Tools\n",
    "* Examples of arithmetics operations"
   ]
  },
  {
   "cell_type": "markdown",
   "id": "e84c5832-305a-4aa9-b107-82a438d0f372",
   "metadata": {},
   "source": [
    "*Objetives*\n",
    "* languages in Data Science\n",
    "* Libraries used in Data Science\n",
    "* Data Science Tools\n",
    "* Examples of arithmetics operations"
   ]
  },
  {
   "cell_type": "markdown",
   "id": "8960a2a9-9b5c-4856-8ad9-0d6e79023969",
   "metadata": {},
   "source": [
    "Some of the most popular languages that Data Sience use are:\n",
    "\n",
    "1. Python\n",
    "2. R\n",
    "3. SQL\n",
    " \n",
    "(Also there are others such a:)\n",
    "\n",
    "4. Java,\n",
    "4. Julia,\n",
    "6. Scala,\n",
    "7. C++"
   ]
  },
  {
   "cell_type": "markdown",
   "id": "2ad452e7-2f6d-4c6b-9a27-ba002e1fb3eb",
   "metadata": {},
   "source": [
    "Some of the most popular languages that Data Sience use are:\n",
    "\n",
    "1. Python\n",
    "2. R\n",
    "3. SQL\n",
    " \n",
    "(Also there are others such a:)\n",
    "\n",
    "4. Java,\n",
    "4. Julia,\n",
    "6. Scala,\n",
    "7. C++"
   ]
  },
  {
   "cell_type": "markdown",
   "id": "71fb65cd-b8e6-49ab-bd52-8f776fd84a6e",
   "metadata": {},
   "source": [
    "Some of the commonly used Libraries used by Data Sientists include:\n",
    "\n",
    "For Python (the most poplar)\n",
    "\n",
    "1. NuPy\n",
    "2. Pandas\n",
    "3. Mapplotlib\n",
    "4. Seaborn\n",
    "5. Scikit-learn\n",
    "6. TensorFlow\n",
    "7. Keras\n",
    "\n",
    "For R ( Statistical Language)\n",
    "\n",
    "8. dplyr\n",
    "9. tidyr\n",
    "10. ggplot2\n",
    "11. caret\n"
   ]
  },
  {
   "cell_type": "markdown",
   "id": "c073d18f-d0f1-4f9c-aebc-facce54b61b3",
   "metadata": {},
   "source": [
    "Some of the commonly used Libraries used by Data Sientists include:\n",
    "\n",
    "For Python (the most poplar)\n",
    "\n",
    "1. NuPy\n",
    "2. Pandas\n",
    "3. Mapplotlib\n",
    "4. Seaborn\n",
    "5. Scikit-learn\n",
    "6. TensorFlow\n",
    "7. Keras\n",
    "\n",
    "For R ( Statistical Language)\n",
    "\n",
    "8. dplyr\n",
    "9. tidyr\n",
    "10. ggplot2\n",
    "11. caret\n"
   ]
  },
  {
   "cell_type": "markdown",
   "id": "ea80f2a6-c8ab-438e-b510-08309ffc7a38",
   "metadata": {},
   "source": [
    "|Data Science Tools|\n",
    "|---|\n",
    "|Jupyter Notebook|\n",
    "|RStusio|\n",
    "|Spder|\n"
   ]
  },
  {
   "cell_type": "markdown",
   "id": "e51e259a-c8e6-4cf8-b0ff-8ee717a470fc",
   "metadata": {},
   "source": [
    "|Data Science Tools|\n",
    "|---|\n",
    "|Jupyter Notebook|\n",
    "|RStusio|\n",
    "|Spder|\n"
   ]
  },
  {
   "cell_type": "markdown",
   "id": "d5b4060a-004c-475a-9593-3ff8a15164c3",
   "metadata": {},
   "source": [
    "### Bellow are a few examples of evaluating arithmetic expressions in Python"
   ]
  },
  {
   "cell_type": "markdown",
   "id": "0c2f635f-d9d1-479e-a2ee-dbace4ea9a60",
   "metadata": {},
   "source": [
    "### Bellow are a few examples of evaluating arithmetic expressions in Python"
   ]
  },
  {
   "cell_type": "code",
   "execution_count": 13,
   "id": "3646ed35-1b48-4e99-b240-8d31c3031bc3",
   "metadata": {},
   "outputs": [
    {
     "data": {
      "text/plain": [
       "17"
      ]
     },
     "execution_count": 13,
     "metadata": {},
     "output_type": "execute_result"
    }
   ],
   "source": [
    "[\"This is a simple arithmetic expression to multiply then add integers\"]\n",
    "(3*4)+5"
   ]
  },
  {
   "cell_type": "code",
   "execution_count": 15,
   "id": "15e8d5b4-891f-4302-809d-6c49aa639aee",
   "metadata": {},
   "outputs": [
    {
     "data": {
      "text/plain": [
       "3.3333333333333335"
      ]
     },
     "execution_count": 15,
     "metadata": {},
     "output_type": "execute_result"
    }
   ],
   "source": [
    "[\"This will convert 200 minutes to hours by dividing by 60\"]\n",
    "200/60"
   ]
  },
  {
   "cell_type": "markdown",
   "id": "40e46e35-72a0-4313-96cb-7649c4ebe537",
   "metadata": {},
   "source": [
    "## Author:\n",
    "Domingo Marcos Alemany Pons (DMAP)"
   ]
  },
  {
   "cell_type": "markdown",
   "id": "bbc3f8d3-0970-4281-a6ff-9f25d3fe7e55",
   "metadata": {},
   "source": [
    "## Author:\n",
    "Domingo Marcos Alemany Pons (DMAP)"
   ]
  }
 ],
 "metadata": {
  "kernelspec": {
   "display_name": "Python 3 (ipykernel)",
   "language": "python",
   "name": "python3"
  },
  "language_info": {
   "codemirror_mode": {
    "name": "ipython",
    "version": 3
   },
   "file_extension": ".py",
   "mimetype": "text/x-python",
   "name": "python",
   "nbconvert_exporter": "python",
   "pygments_lexer": "ipython3",
   "version": "3.12.4"
  }
 },
 "nbformat": 4,
 "nbformat_minor": 5
}
